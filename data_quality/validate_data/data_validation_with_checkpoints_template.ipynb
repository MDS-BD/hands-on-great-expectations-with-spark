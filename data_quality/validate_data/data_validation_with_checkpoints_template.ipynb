{
 "cells": [
  {
   "cell_type": "markdown",
   "id": "6003cfa2",
   "metadata": {
    "pycharm": {
     "name": "#%% md\n"
    }
   },
   "source": [
    "# Template for data validation with Great Expectations Checkpoints\n",
    "\n",
    "This notebook is a template which shows you the main steps you have to follow in order to execute a validation run over an in-memory SparkDF using the Great Expectations `Checkpoint`.\n",
    "\n",
    "The key steps presented in this notebook are the following:\n",
    "\n",
    "1. Create the Spark Session and read the SparkDF\n",
    "2. Set the Expectation Suite you want to use\n",
    "3. Configure the Great Expectations Data Context <br/>\n",
    "  3.1 Data Source configuration <br/>\n",
    "  3.2 Expectation suites and Validation Results stores configuration <br/>\n",
    "  3.3 Instantiate the Data Context\n",
    "4. Get a batch of data and instantiate a Validator object\n",
    "5. Validate your data with a `Checkpoint`"
   ]
  },
  {
   "cell_type": "code",
   "execution_count": null,
   "id": "e81940c4",
   "metadata": {
    "pycharm": {
     "name": "#%%\n"
    }
   },
   "outputs": [],
   "source": [
    "# import custom_expectations package\n",
    "import sys\n",
    "sys.path.append('../')\n",
    "\n",
    "import custom_expectations"
   ]
  },
  {
   "cell_type": "code",
   "execution_count": null,
   "id": "62198e75",
   "metadata": {
    "pycharm": {
     "name": "#%%\n"
    }
   },
   "outputs": [],
   "source": [
    "from pyspark.sql import SparkSession\n",
    "import os\n",
    "import datetime\n",
    "\n",
    "from pyspark.sql.types import StructType, StructField, StringType, IntegerType\n",
    "from great_expectations.data_context.types.base import DataContextConfig\n",
    "from great_expectations.exceptions import DataContextError\n",
    "from great_expectations.data_context import BaseDataContext\n",
    "from great_expectations.core.batch import RuntimeBatchRequest\n",
    "from great_expectations.checkpoint import SimpleCheckpoint"
   ]
  },
  {
   "cell_type": "markdown",
   "id": "ac9bff9f",
   "metadata": {
    "pycharm": {
     "name": "#%% md\n"
    }
   },
   "source": [
    "## 1) Read data as SparkDF\n",
    "\n",
    "Create a local SparkSession and read data from the path `../../data/` as SparkDF."
   ]
  },
  {
   "cell_type": "code",
   "execution_count": null,
   "id": "a723be79",
   "metadata": {
    "pycharm": {
     "name": "#%%\n"
    }
   },
   "outputs": [],
   "source": [
    "spark = SparkSession.builder.master('local').getOrCreate()"
   ]
  },
  {
   "cell_type": "code",
   "execution_count": null,
   "id": "8e44cdd1",
   "metadata": {
    "pycharm": {
     "name": "#%%\n"
    }
   },
   "outputs": [],
   "source": [
    "schema = StructType([\n",
    "    StructField(\"video_id\",StringType(),True),\n",
    "    StructField(\"time_spent\", IntegerType(), True),\n",
    "    StructField(\"video_duration\", IntegerType(), True),\n",
    "    StructField(\"customer_id\", StringType(), True),\n",
    "    StructField(\"user_id\", StringType(), True),\n",
    "    StructField(\"device_id\", StringType(), True)\n",
    "  ])"
   ]
  },
  {
   "cell_type": "code",
   "execution_count": null,
   "id": "413a6154",
   "metadata": {
    "pycharm": {
     "name": "#%%\n"
    }
   },
   "outputs": [],
   "source": [
    "df = spark.read.format(\"csv\")\\\n",
    "    .option(\"sep\", \",\")\\\n",
    "    .option(\"nullValue\", \"*\")\\\n",
    "    .option(\"header\", \"true\")\\\n",
    "    .option(\"escape\", \"\\\"\")\\\n",
    "    .schema(schema)\\\n",
    "    .load(\"../../data/sample_data.csv\")"
   ]
  },
  {
   "cell_type": "markdown",
   "id": "b9b1d06f",
   "metadata": {},
   "source": [
    "## 2) Set the Expectation Suite you want to use\n",
    "\n",
    "Set the name of the Expectation Suite you want to use to evaluate the quality of your data.<br/>\n",
    "The Expectation Suite should have been already generated and stored in the directory that you will provide below in the `ExpectationsStore` configuration.\n",
    "\n",
    "(Check the notebook [template for the creation of an Expectations Suite](../suite_dev_notebooks/expectation_suite_template.ipynb))"
   ]
  },
  {
   "cell_type": "code",
   "execution_count": null,
   "id": "0a5e36ad",
   "metadata": {
    "pycharm": {
     "name": "#%%\n"
    }
   },
   "outputs": [],
   "source": [
    "table_name = \"sample_data\"\n",
    "suite_name = \"data_quality_check\"\n",
    "expectation_suite_name = table_name+\".\"+suite_name"
   ]
  },
  {
   "cell_type": "markdown",
   "id": "09e175b9",
   "metadata": {
    "pycharm": {
     "name": "#%% md\n"
    }
   },
   "source": [
    "## 3) Configure Great Expectations Data Context\n",
    "\n",
    "Instantiate the Great Expectations Data Context based on the official guide: [_How to instantiate a data context without a yml file_](https://docs.greatexpectations.io/docs/guides/setup/configuring_data_contexts/how_to_instantiate_a_data_context_without_a_yml_file). <br />\n",
    "In the [Data Context](https://docs.greatexpectations.io/docs/terms/data_context/) we have to define all the necessary information to create our expectation suite: \n",
    "- where to store the expectation suite,\n",
    "- where to store the validation results,\n",
    "- what engine to use (Pandas, Spark or SQLAlchemy),\n",
    "- how to connect to your input data."
   ]
  },
  {
   "cell_type": "markdown",
   "id": "e8a11021",
   "metadata": {
    "pycharm": {
     "name": "#%% md\n"
    }
   },
   "source": [
    "### 3.1) Data Source configuration\n",
    "\n",
    "Since we are developing an [expectation suite over an in-memory SparkDF](https://docs.greatexpectations.io/docs/guides/connecting_to_your_data/in_memory/spark), we configure datasource as follow:\n",
    "- `SparkDFExecutionEngine` as _**execution_engine**_'s _class_name_\n",
    "- `RuntimeDataConnector` as _**dataconnector**_"
   ]
  },
  {
   "cell_type": "code",
   "execution_count": null,
   "id": "39de9c11",
   "metadata": {
    "pycharm": {
     "name": "#%%\n"
    }
   },
   "outputs": [],
   "source": [
    "datasources={\n",
    "    \"filesystem_datasource\": {\n",
    "        \"class_name\": \"Datasource\",\n",
    "        \"module_name\": \"great_expectations.datasource\",\n",
    "        'execution_engine': {\n",
    "            'module_name': 'great_expectations.execution_engine',\n",
    "            'class_name': 'SparkDFExecutionEngine'\n",
    "        },\n",
    "        \"data_connectors\": {\n",
    "            \"runtime_data_connector\": {\n",
    "                \"class_name\": \"RuntimeDataConnector\",\n",
    "                \"batch_identifiers\": [\"batch_id\"],\n",
    "            },\n",
    "        },\n",
    "    }\n",
    "}"
   ]
  },
  {
   "cell_type": "markdown",
   "id": "88c8bed3",
   "metadata": {
    "pycharm": {
     "name": "#%% md\n"
    }
   },
   "source": [
    "### 3.2) Expectation suites and Validation Results stores configuration\n",
    "\n",
    "In the Data Context we must specify the paths where to read the expectation suite and where to write the validation \n",
    "results. Paths can be related to either [Amazon S3](https://docs.greatexpectations.io/docs/guides/setup/configuring_metadata_stores/how_to_configure_an_expectation_store_in_amazon_s3) or [Local Filesystem](https://docs.greatexpectations.io/docs/guides/setup/configuring_metadata_stores/how_to_configure_an_expectation_store_on_a_filesystem). \n",
    "<br/>\n",
    "In the following cells we show how to configure the expectations and validations stores for those two scenarios."
   ]
  },
  {
   "cell_type": "code",
   "execution_count": null,
   "id": "0338cce8",
   "metadata": {
    "pycharm": {
     "name": "#%%\n"
    }
   },
   "outputs": [],
   "source": [
    "# Choose where to store the expectations: S3 or Local Filesystem\n",
    "expectations_s3_store = {\n",
    "    \"class_name\": \"ExpectationsStore\",\n",
    "    \"store_backend\": {\n",
    "        \"class_name\": \"TupleS3StoreBackend\",\n",
    "        \"bucket\": \"bucket-name\",\n",
    "        \"prefix\": \"folder/name\",\n",
    "     }\n",
    "}\n",
    "expectations_filesystem_store = {\n",
    "    \"class_name\": \"ExpectationsStore\",\n",
    "    \"store_backend\": {\n",
    "        \"class_name\": \"TupleFilesystemStoreBackend\",\n",
    "        \"base_directory\": \"/home/jovyan/work/expectation_suites\",\n",
    "    }\n",
    "}"
   ]
  },
  {
   "cell_type": "code",
   "execution_count": null,
   "id": "a9e9f589",
   "metadata": {
    "pycharm": {
     "name": "#%%\n"
    }
   },
   "outputs": [],
   "source": [
    "# Choose where to store the validation: S3 or Local Filesystem\n",
    "validations_s3_store = {\n",
    "    \"class_name\": \"ValidationsStore\",\n",
    "    \"store_backend\": {\n",
    "        \"class_name\": \"TupleS3StoreBackend\",\n",
    "        \"bucket\": \"bucket-name\",\n",
    "        \"prefix\": \"folder/name\",\n",
    "     }\n",
    "}\n",
    "validations_filesystem_store = {\n",
    "    \"class_name\": \"ValidationsStore\",\n",
    "    \"store_backend\": {\n",
    "        \"class_name\": \"TupleFilesystemStoreBackend\",\n",
    "        \"base_directory\": \"/home/jovyan/work/validations\",\n",
    "    }\n",
    "}"
   ]
  },
  {
   "cell_type": "markdown",
   "id": "1a04ede9",
   "metadata": {
    "pycharm": {
     "name": "#%% md\n"
    }
   },
   "source": [
    "### 3.3) Instantiate the Data Context\n",
    "\n",
    "Finally we instantiate the `DataContextConfig` specifying the previously configured datasource, expectations store and validations store and setting the path where to store the Data Docs website (with `data_docs_sites`)."
   ]
  },
  {
   "cell_type": "code",
   "execution_count": null,
   "id": "f3f46484",
   "metadata": {
    "pycharm": {
     "name": "#%%\n"
    }
   },
   "outputs": [],
   "source": [
    "data_context_config = DataContextConfig(\n",
    "    datasources=datasources,\n",
    "    stores={\n",
    "        \"expectations_store\": expectations_filesystem_store,\n",
    "        \"validations_store\": validations_filesystem_store,\n",
    "        \"evaluation_parameter_store\": {\"class_name\": \"EvaluationParameterStore\"},\n",
    "    },\n",
    "    expectations_store_name=\"expectations_store\",\n",
    "    validations_store_name=\"validations_store\",\n",
    "    evaluation_parameter_store_name=\"evaluation_parameter_store\",\n",
    "    checkpoint_store_name=\"checkpoint_store\",\n",
    "    data_docs_sites={\n",
    "        \"dq_website\": {\n",
    "            \"class_name\": \"SiteBuilder\",\n",
    "            \"store_backend\": {\n",
    "                \"class_name\": \"TupleFilesystemStoreBackend\",\n",
    "                \"base_directory\": \"/home/jovyan/work/site\",\n",
    "            },\n",
    "            \"site_index_builder\": {\n",
    "                \"class_name\": \"DefaultSiteIndexBuilder\",\n",
    "                \"show_cta_footer\": False,\n",
    "            },\n",
    "        }\n",
    "    },\n",
    "    anonymous_usage_statistics={\n",
    "      \"enabled\": False\n",
    "    }\n",
    ")"
   ]
  },
  {
   "cell_type": "code",
   "execution_count": null,
   "id": "7e07690b",
   "metadata": {
    "pycharm": {
     "name": "#%%\n"
    }
   },
   "outputs": [],
   "source": [
    "context = BaseDataContext(project_config=data_context_config)"
   ]
  },
  {
   "cell_type": "markdown",
   "id": "2c9c8005",
   "metadata": {
    "pycharm": {
     "name": "#%% md\n"
    }
   },
   "source": [
    "## 4) Get a batch of data and instantiate a Validator object\n",
    "\n",
    "Create a [`RuntimeBatchRequest`](https://docs.greatexpectations.io/docs/guides/connecting_to_your_data/how_to_configure_a_runtimedataconnector/#example-2-runtimedataconnector-that-uses-an-in-memory-dataframe) where you specify which Batch of data you would like to check.<br/>\n",
    "**Note**: in this case the batch is composed by the entire dataset previously read as SparkDF."
   ]
  },
  {
   "cell_type": "code",
   "execution_count": null,
   "id": "49706566",
   "metadata": {
    "pycharm": {
     "name": "#%%\n"
    }
   },
   "outputs": [],
   "source": [
    "batch_request = RuntimeBatchRequest(\n",
    "    datasource_name=\"filesystem_datasource\",\n",
    "    data_connector_name=\"runtime_data_connector\",\n",
    "    data_asset_name=\"data_asset_name\",\n",
    "    batch_identifiers={\"batch_id\": \"something_something\"},\n",
    "    runtime_parameters={\"batch_data\": df},\n",
    ")"
   ]
  },
  {
   "cell_type": "code",
   "execution_count": null,
   "id": "64c6303c",
   "metadata": {
    "pycharm": {
     "name": "#%%\n"
    }
   },
   "outputs": [],
   "source": [
    "validations = [\n",
    "        {\n",
    "            \"batch_request\": batch_request,\n",
    "            \"expectation_suite_name\": expectation_suite_name\n",
    "         }\n",
    "    ]"
   ]
  },
  {
   "cell_type": "markdown",
   "id": "f12e5ff2",
   "metadata": {},
   "source": [
    "## 5) Validate your data with Great Expectations Checkpoint"
   ]
  },
  {
   "cell_type": "markdown",
   "id": "eec1ecd0",
   "metadata": {
    "pycharm": {
     "name": "#%% md\n"
    }
   },
   "source": [
    "We are now ready to instantiate the [Checkpoint](https://docs.greatexpectations.io/docs/guides/validation/advanced/how_to_validate_data_with_an_in_memory_checkpoint) and run a data validation.\n",
    "\n",
    "\n",
    "> **Note**: From Great Expectations 0.14.6 it is required that the _validations_ list variable (defined on the previous cell) must be passed as an input parameter to the `.run()` method. <br/>\n",
    "While on the older versions (<= 0.14.5), the _validations_ list was passed directly during the Checkpoint instantiation.<br/>\n",
    ">- [Pull Request #4166](https://github.com/great-expectations/great_expectations/pull/4166)\n",
    ">- [Great Expectations Release 0.14.6](https://github.com/great-expectations/great_expectations/releases/tag/0.14.6)"
   ]
  },
  {
   "cell_type": "code",
   "execution_count": null,
   "id": "acf12211",
   "metadata": {
    "pycharm": {
     "name": "#%%\n"
    }
   },
   "outputs": [],
   "source": [
    "checkpoint = SimpleCheckpoint(\n",
    "    name=\"checkpoint\",\n",
    "    data_context=context,\n",
    "    class_name=\"SimpleCheckpoint\",\n",
    "    action_list=[\n",
    "    {\n",
    "      \"name\": \"store_validation_result\",\n",
    "      \"action\": {\n",
    "        \"class_name\": \"StoreValidationResultAction\"\n",
    "      }\n",
    "    }\n",
    "  ]\n",
    ")"
   ]
  },
  {
   "cell_type": "markdown",
   "id": "9c98c00b",
   "metadata": {
    "pycharm": {
     "name": "#%% md\n"
    }
   },
   "source": [
    "The Checkpoint method `.run()` starts to validate the batch of data by running the corresponding expectations suite (defined on the BaseDataContext). <br/>\n",
    "The Validation Results output are: a `.json` file created under the path declared on the variable `validations_*_store` (previously defined in the context configuration) and the Data Docs updated with the current validation output."
   ]
  },
  {
   "cell_type": "code",
   "execution_count": null,
   "id": "54a5ace7",
   "metadata": {
    "pycharm": {
     "name": "#%%\n"
    },
    "scrolled": false
   },
   "outputs": [],
   "source": [
    "run_id = {\n",
    "  \"run_name\": table_name+\"_\"+suite_name+\"_run\",\n",
    "  \"run_time\": datetime.datetime.now(datetime.timezone.utc)\n",
    "}\n",
    "\n",
    "checkpoint_result = checkpoint.run(\n",
    "    run_id=run_id,\n",
    "    run_name_template=\"%Y%m%d_%H%M%S\",\n",
    "    validations=validations,\n",
    "    action_list=[\n",
    "    {\n",
    "      \"name\": \"store_validation_result\",\n",
    "      \"action\": {\n",
    "        \"class_name\": \"StoreValidationResultAction\"\n",
    "      }\n",
    "    }\n",
    "  ]\n",
    ")"
   ]
  },
  {
   "cell_type": "markdown",
   "id": "e8c909fc",
   "metadata": {},
   "source": [
    "If you just want to update the Data Docs to check how is rendered the latest Expectation you added to the Expectation Suite, check the [python script](../generate_data_doc) dedicated to the creation/update of the Great Expectations Data Docs."
   ]
  },
  {
   "cell_type": "markdown",
   "id": "4bdd2ffc",
   "metadata": {
    "pycharm": {
     "name": "#%% md\n"
    }
   },
   "source": [
    "#### Bonus: Validate your data with Great Expectations <= 0.14.5\n",
    "\n",
    "Here how to instantiate a Checkpoint and run a data Validation with Great Expectations <= 0.14.5 (before [Pull Request #4166](https://github.com/great-expectations/great_expectations/pull/4166) was merged)."
   ]
  },
  {
   "cell_type": "markdown",
   "id": "67502d64",
   "metadata": {},
   "source": [
    "```\n",
    "# Instantiate the Checkpoint\n",
    "checkpoint = SimpleCheckpoint(\n",
    "    name=\"checkpoint\",\n",
    "    data_context=context,\n",
    "    class_name=\"SimpleCheckpoint\",\n",
    "    validations=validations,\n",
    "    action_list=[\n",
    "    {\n",
    "      \"name\": \"store_validation_result\",\n",
    "      \"action\": {\n",
    "        \"class_name\": \"StoreValidationResultAction\"\n",
    "      }\n",
    "    }\n",
    "  ]\n",
    ")\n",
    "\n",
    "# Set run ID\n",
    "run_id = {\n",
    "  \"run_name\": table_name+\"_\"+suite_name+\"_run\",\n",
    "  \"run_time\": datetime.datetime.now(datetime.timezone.utc)\n",
    "}\n",
    "\n",
    "# run a data Validation\n",
    "checkpoint_result = checkpoint.run(\n",
    "    run_id=run_id,\n",
    "    run_name_template=\"%Y%m%d_%H%M%S\",\n",
    "    action_list=[\n",
    "    {\n",
    "      \"name\": \"store_validation_result\",\n",
    "      \"action\": {\n",
    "        \"class_name\": \"StoreValidationResultAction\"\n",
    "      }\n",
    "    }\n",
    "  ]\n",
    ")\n",
    "```"
   ]
  }
 ],
 "metadata": {
  "hide_input": false,
  "kernelspec": {
   "display_name": "Python 3",
   "language": "python",
   "name": "python3"
  },
  "language_info": {
   "codemirror_mode": {
    "name": "ipython",
    "version": 3
   },
   "file_extension": ".py",
   "mimetype": "text/x-python",
   "name": "python",
   "nbconvert_exporter": "python",
   "pygments_lexer": "ipython3",
   "version": "3.8.8"
  },
  "toc": {
   "base_numbering": 1,
   "nav_menu": {},
   "number_sections": true,
   "sideBar": true,
   "skip_h1_title": false,
   "title_cell": "Table of Contents",
   "title_sidebar": "Contents",
   "toc_cell": false,
   "toc_position": {
    "height": "861.094px",
    "left": "0px",
    "top": "110.051px",
    "width": "228.75px"
   },
   "toc_section_display": true,
   "toc_window_display": false
  },
  "varInspector": {
   "cols": {
    "lenName": 16,
    "lenType": 16,
    "lenVar": 40
   },
   "kernels_config": {
    "python": {
     "delete_cmd_postfix": "",
     "delete_cmd_prefix": "del ",
     "library": "var_list.py",
     "varRefreshCmd": "print(var_dic_list())"
    },
    "r": {
     "delete_cmd_postfix": ") ",
     "delete_cmd_prefix": "rm(",
     "library": "var_list.r",
     "varRefreshCmd": "cat(var_dic_list()) "
    }
   },
   "types_to_exclude": [
    "module",
    "function",
    "builtin_function_or_method",
    "instance",
    "_Feature"
   ],
   "window_display": false
  }
 },
 "nbformat": 4,
 "nbformat_minor": 5
}
