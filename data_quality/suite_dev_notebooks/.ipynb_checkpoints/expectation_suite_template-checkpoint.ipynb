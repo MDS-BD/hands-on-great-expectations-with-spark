{
 "cells": [
  {
   "cell_type": "markdown",
   "metadata": {},
   "source": [
    "# Template for the creation of an Expectations Suite \n",
    "\n",
    "This notebook is a template which shows you the main steps you have to follow in order to creare an Expectation Suite from a sample dataset.\n",
    "\n",
    "The key steps presented in this notebook are the following:\n",
    "\n",
    "1. Create the Spark Session and read the SparkDF\n",
    "2. Define the Expectation Suite name\n",
    "3. Configure the Great Expectations Data Context <br/>\n",
    "  3.1 Data Source configuration <br/>\n",
    "  3.2 Expectation suites and Validation Results stores configuration <br/>\n",
    "  3.3 Instantiate the Data Context\n",
    "4. Get a batch of data and instantiate a Validator object\n",
    "5. Add Expectations to the Expectation Suite <br/>\n",
    "  5.1 Add Custom Expectations <br/>\n",
    "  5.2 Add native (built-in) Expectations\n",
    "6. Save the Expectation Suite."
   ]
  },
  {
   "cell_type": "code",
   "execution_count": null,
   "metadata": {
    "pycharm": {
     "name": "#%%\n"
    }
   },
   "outputs": [],
   "source": [
    "# import custom_expectations package\n",
    "import sys\n",
    "sys.path.append('../')\n",
    "\n",
    "import custom_expectations"
   ]
  },
  {
   "cell_type": "code",
   "execution_count": null,
   "metadata": {},
   "outputs": [],
   "source": [
    "from pyspark.sql import SparkSession\n",
    "import os\n",
    "\n",
    "from pyspark.sql.types import StructType, StructField, StringType, IntegerType\n",
    "from great_expectations.data_context.types.base import DataContextConfig\n",
    "from great_expectations.exceptions import DataContextError\n",
    "from great_expectations.data_context import BaseDataContext\n",
    "from great_expectations.core.batch import RuntimeBatchRequest"
   ]
  },
  {
   "cell_type": "markdown",
   "metadata": {},
   "source": [
    "## 1) Read data as SparkDF\n",
    "\n",
    "Create a local SparkSession and read data from the path `../../data/` as SparkDF."
   ]
  },
  {
   "cell_type": "code",
   "execution_count": null,
   "metadata": {
    "pycharm": {
     "name": "#%%\n"
    }
   },
   "outputs": [],
   "source": [
    "spark = SparkSession.builder.master('local').getOrCreate()\n",
    "sc = spark.sparkContext"
   ]
  },
  {
   "cell_type": "code",
   "execution_count": null,
   "metadata": {
    "pycharm": {
     "name": "#%%\n"
    }
   },
   "outputs": [],
   "source": [
    "schema = StructType([\n",
    "    StructField(\"video_id\",StringType(),True),\n",
    "    StructField(\"time_spent\", IntegerType(), True),\n",
    "    StructField(\"video_duration\", IntegerType(), True),\n",
    "    StructField(\"customer_id\", StringType(), True),\n",
    "    StructField(\"user_id\", StringType(), True),\n",
    "    StructField(\"device_id\", StringType(), True)\n",
    "  ])"
   ]
  },
  {
   "cell_type": "code",
   "execution_count": null,
   "metadata": {
    "pycharm": {
     "name": "#%%\n"
    }
   },
   "outputs": [],
   "source": [
    "df = spark.read.format(\"csv\")\\\n",
    "    .option(\"sep\", \",\")\\\n",
    "    .option(\"nullValue\", \"*\")\\\n",
    "    .option(\"header\", \"true\")\\\n",
    "    .option(\"escape\", \"\\\"\")\\\n",
    "    .schema(schema)\\\n",
    "    .load(\"../../data/sample_data.csv\")"
   ]
  },
  {
   "cell_type": "markdown",
   "metadata": {},
   "source": [
    "## 2) Define the Expectation Suite name\n",
    "\n",
    "Define the name of the Expectation Suite to develop. We can have multiple expectation suite for the same batch of data thus we've decided to name Expectation Suites as `table_name + \".\" + suite_name`."
   ]
  },
  {
   "cell_type": "code",
   "execution_count": null,
   "metadata": {
    "pycharm": {
     "name": "#%%\n"
    }
   },
   "outputs": [],
   "source": [
    "table_name = \"sample_data\"\n",
    "suite_name = \"data_quality_check\"\n",
    "expectation_suite_name = table_name+\".\"+suite_name"
   ]
  },
  {
   "cell_type": "markdown",
   "metadata": {},
   "source": [
    "## 3) Configure Great Expectations Data Context\n",
    "\n",
    "Instantiate the Great Expectations Data Context based on the official guide: [_How to instantiate a data context without a yml file_](https://docs.greatexpectations.io/docs/guides/setup/configuring_data_contexts/how_to_instantiate_a_data_context_without_a_yml_file). <br />\n",
    "In the [Data Context](https://docs.greatexpectations.io/docs/terms/data_context/) we have to define all the necessary information to create our expectation suite: \n",
    "- where to store the expectation suite,\n",
    "- where to store the validation results,\n",
    "- what engine to use (Pandas, Spark or SQLAlchemy),\n",
    "- how to connect to your input data."
   ]
  },
  {
   "cell_type": "markdown",
   "metadata": {},
   "source": [
    "### 3.1) Data Source configuration\n",
    "\n",
    "Since we are developing an [expectation suite over an in-memory SparkDF](https://docs.greatexpectations.io/docs/guides/connecting_to_your_data/in_memory/spark), we configure datasource as follow:\n",
    "- `SparkDFExecutionEngine` as _**execution_engine**_'s _class_name_\n",
    "- `RuntimeDataConnector` as _**dataconnector**_"
   ]
  },
  {
   "cell_type": "code",
   "execution_count": null,
   "metadata": {
    "pycharm": {
     "name": "#%%\n"
    }
   },
   "outputs": [],
   "source": [
    "datasources={\n",
    "    \"filesystem_datasource\": {\n",
    "        \"class_name\": \"Datasource\",\n",
    "        \"module_name\": \"great_expectations.datasource\",\n",
    "        'execution_engine': {\n",
    "            'module_name': 'great_expectations.execution_engine',\n",
    "            'class_name': 'SparkDFExecutionEngine'\n",
    "        },\n",
    "        \"data_connectors\": {\n",
    "            \"runtime_data_connector\": {\n",
    "                \"class_name\": \"RuntimeDataConnector\",\n",
    "                \"batch_identifiers\": [\"batch_id\"],\n",
    "            },\n",
    "        },\n",
    "    }\n",
    "}"
   ]
  },
  {
   "cell_type": "markdown",
   "metadata": {},
   "source": [
    "### 3.2) Expectation suites and Validation Results stores configuration\n",
    "\n",
    "In the Data Context we must specify the paths where to write expectation suite and where to read the validation \n",
    "results. Paths can be related to either [Amazon S3](https://docs.greatexpectations.io/docs/guides/setup/configuring_metadata_stores/how_to_configure_an_expectation_store_in_amazon_s3) or [Local Filesystem](https://docs.greatexpectations.io/docs/guides/setup/configuring_metadata_stores/how_to_configure_an_expectation_store_on_a_filesystem). \n",
    "<br/>\n",
    "In the following cells we show how to configure the expectations and validations stores for those two scenarios."
   ]
  },
  {
   "cell_type": "code",
   "execution_count": null,
   "metadata": {},
   "outputs": [],
   "source": [
    "# Choose where to store the expectations: S3 or Local Filesystem\n",
    "expectations_s3_store = {\n",
    "    \"class_name\": \"ExpectationsStore\",\n",
    "    \"store_backend\": {\n",
    "        \"class_name\": \"TupleS3StoreBackend\",\n",
    "        \"bucket\": \"bucket-name\",\n",
    "        \"prefix\": \"folder/name\",\n",
    "     }\n",
    "}\n",
    "expectations_filesystem_store = {\n",
    "    \"class_name\": \"ExpectationsStore\",\n",
    "    \"store_backend\": {\n",
    "        \"class_name\": \"TupleFilesystemStoreBackend\",\n",
    "        \"base_directory\": \"/home/jovyan/work/expectation_suites\",\n",
    "    }\n",
    "}"
   ]
  },
  {
   "cell_type": "code",
   "execution_count": null,
   "metadata": {},
   "outputs": [],
   "source": [
    "# Choose where to store the validations: S3 or Local Filesystem\n",
    "validations_s3_store = {\n",
    "    \"class_name\": \"ValidationsStore\",\n",
    "    \"store_backend\": {\n",
    "        \"class_name\": \"TupleS3StoreBackend\",\n",
    "        \"bucket\": \"bucket-name\",\n",
    "        \"prefix\": \"folder/name\",\n",
    "     }\n",
    "}\n",
    "validations_filesystem_store = {\n",
    "    \"class_name\": \"ValidationsStore\",\n",
    "    \"store_backend\": {\n",
    "        \"class_name\": \"TupleFilesystemStoreBackend\",\n",
    "        \"base_directory\": \"/home/jovyan/work/validations\",\n",
    "    }\n",
    "}"
   ]
  },
  {
   "cell_type": "markdown",
   "metadata": {},
   "source": [
    "### 3.3) Instantiate the Data Context\n",
    "\n",
    "Finally we instantiate the `DataContextConfig` specifying the previously configured datasource, expectations store and validations store and setting the path where to store the Data Docs website (with `data_docs_sites`)."
   ]
  },
  {
   "cell_type": "code",
   "execution_count": null,
   "metadata": {
    "pycharm": {
     "name": "#%%\n"
    }
   },
   "outputs": [],
   "source": [
    "data_context_config = DataContextConfig(\n",
    "    datasources=datasources,\n",
    "    stores={\n",
    "        \"expectations_store\": expectations_filesystem_store,\n",
    "        \"validations_store\": validations_filesystem_store,\n",
    "        \"evaluation_parameter_store\": {\"class_name\": \"EvaluationParameterStore\"},\n",
    "    },\n",
    "    expectations_store_name=\"expectations_store\",\n",
    "    validations_store_name=\"validations_store\",\n",
    "    evaluation_parameter_store_name=\"evaluation_parameter_store\",\n",
    "    data_docs_sites={\n",
    "        \"dq_website\": {\n",
    "            \"class_name\": \"SiteBuilder\",\n",
    "            \"store_backend\": {\n",
    "                \"class_name\": \"TupleFilesystemStoreBackend\",\n",
    "                \"base_directory\": \"/home/jovyan/work/site\",\n",
    "            },\n",
    "            \"site_index_builder\": {\n",
    "                \"class_name\": \"DefaultSiteIndexBuilder\",\n",
    "                \"show_cta_footer\": False,\n",
    "            },\n",
    "        }\n",
    "    },\n",
    "    anonymous_usage_statistics={\n",
    "      \"enabled\": False\n",
    "    }\n",
    ")"
   ]
  },
  {
   "cell_type": "code",
   "execution_count": null,
   "metadata": {
    "pycharm": {
     "name": "#%%\n"
    }
   },
   "outputs": [],
   "source": [
    "context = BaseDataContext(project_config=data_context_config)"
   ]
  },
  {
   "cell_type": "markdown",
   "metadata": {},
   "source": [
    "Once instantiated the `BaseDataContext`, run the cell below to create a new empty Expectation Suite if it doesn't already exist or choose an existing one to edit it."
   ]
  },
  {
   "cell_type": "code",
   "execution_count": null,
   "metadata": {
    "pycharm": {
     "name": "#%%\n"
    }
   },
   "outputs": [],
   "source": [
    "try:\n",
    "    suite = context.create_expectation_suite(\n",
    "        expectation_suite_name,\n",
    "        overwrite_existing=True # Configure this parameter for your needs\n",
    "    )\n",
    "except DataContextError:\n",
    "    print(\"\\'{}\\' already exists and it will be overwritten.\".format(expectation_suite_name))\n",
    "else:\n",
    "    print(\"\\'{}\\' suite doesn't exists. \\n A new one has been created.\".format(expectation_suite_name))"
   ]
  },
  {
   "cell_type": "markdown",
   "metadata": {},
   "source": [
    "## 4) Get a batch of data and instantiate a Validator object\n",
    "\n",
    "Create a [`RuntimeBatchRequest`](https://docs.greatexpectations.io/docs/guides/connecting_to_your_data/how_to_configure_a_runtimedataconnector/#example-2-runtimedataconnector-that-uses-an-in-memory-dataframe) where you specify which Batch of data you would like to check.<br/>\n",
    "**Note**: in this case the batch is composed by the entire dataset previously read as SparkDF."
   ]
  },
  {
   "cell_type": "code",
   "execution_count": null,
   "metadata": {
    "pycharm": {
     "name": "#%%\n"
    }
   },
   "outputs": [],
   "source": [
    "batch_request = RuntimeBatchRequest(\n",
    "    datasource_name=\"filesystem_datasource\",\n",
    "    data_connector_name=\"runtime_data_connector\",\n",
    "    data_asset_name=\"data_asset_name\",\n",
    "    batch_identifiers={\"batch_id\": \"something_something\"},\n",
    "    runtime_parameters={\"batch_data\": df},\n",
    ")"
   ]
  },
  {
   "cell_type": "markdown",
   "metadata": {},
   "source": [
    "Once done, instantiate a [`Validator`](https://docs.greatexpectations.io/docs/guides/expectations/how_to_create_and_edit_expectations_with_a_profiler#3-instantiate-your-validator) object \n",
    "to access and interact with your data and to start to work with your Expectation Suite."
   ]
  },
  {
   "cell_type": "code",
   "execution_count": null,
   "metadata": {
    "pycharm": {
     "name": "#%%\n"
    }
   },
   "outputs": [],
   "source": [
    "validator = context.get_validator(\n",
    "    batch_request=batch_request, \n",
    "    expectation_suite_name=expectation_suite_name\n",
    ")"
   ]
  },
  {
   "cell_type": "markdown",
   "metadata": {},
   "source": [
    "## 5) Add Expectations to the Expectation Suite\n",
    "\n",
    "Great Expectations provides you two kinds of Expectations to test your data:\n",
    "\n",
    "- native expectations \n",
    "- custom expectations\n",
    "\n",
    "Below we show how to define both types of expectations and how to add them to the Expectations Suite through the Validator object."
   ]
  },
  {
   "cell_type": "markdown",
   "metadata": {},
   "source": [
    "### 5.1) Add Custom Expectations to the Expectation Suite\n",
    "\n",
    "[Custom Expectations](https://docs.greatexpectations.io/docs/guides/expectations/creating_custom_expectations/overview) are user defined types of expectations that are not present in the [Expectation Gallery](https://greatexpectations.io/expectations/) that allow you to create totally custom checks over your batch of data.<br/>\n",
    "This type of expectations are importable Python modules which contain all the logics of the check and all the informations to correctly render the expectation inside the generated Data docs.\n",
    "\n",
    "Currently we are storing all the Custom Expectations in the relative path `../custom_expectations`. In order to call the Custom Expectations during the Expectation Suite creation, you must import them in your notebook kernel session (see the first cell of this notebook).\n",
    "\n",
    "In this case we are going to show three different types of Custom Expectations:\n",
    "* **Single Column Expectations**: this type of Custom Expectations allows you to create custom checks over a single table's column.\n",
    "* **Pair Columns Expectations**: this type of Custom Expectations allows you to create custom check over a pair of table columns.\n",
    "* **Multi Columns Expectations**: this type of Custom Expectations allows you to create custom check over a subset of table columns."
   ]
  },
  {
   "cell_type": "markdown",
   "metadata": {},
   "source": [
    "### Single column expectation with `video_id` column"
   ]
  },
  {
   "cell_type": "code",
   "execution_count": null,
   "metadata": {},
   "outputs": [],
   "source": [
    "validator.expect_column_length_match_input_length(\n",
    "    column='video_id', \n",
    "    length=11\n",
    ")"
   ]
  },
  {
   "cell_type": "markdown",
   "metadata": {},
   "source": [
    "### Pair column expectation with `time_spent` and `video_duration` columns"
   ]
  },
  {
   "cell_type": "code",
   "execution_count": null,
   "metadata": {
    "pycharm": {
     "name": "#%%\n"
    }
   },
   "outputs": [],
   "source": [
    "validator.expect_column_pair_a_to_be_approximately_smaller_or_equal_than_b(\n",
    "    column_A='time_spent',\n",
    "    column_B='video_duration',\n",
    "    n_approximate=1\n",
    ")"
   ]
  },
  {
   "cell_type": "markdown",
   "metadata": {},
   "source": [
    "### Multicolumn expectation with `customer_id`, `user_id` and `device_id` columns"
   ]
  },
  {
   "cell_type": "code",
   "execution_count": null,
   "metadata": {
    "scrolled": false
   },
   "outputs": [],
   "source": [
    "validator.expect_multicolumn_customer_id_user_id_device_id(\n",
    "    column_list=['customer_id', 'user_id', 'device_id'],\n",
    "    device_id_regex='d[0-9]{3}$'\n",
    ")"
   ]
  },
  {
   "cell_type": "markdown",
   "metadata": {},
   "source": [
    "### 5.2) Add native (built-in) Expectations to the Expectation Suite\n",
    "\n",
    "The native expectations are all the built-in checks that are present in the [Expectations gallery](https://greatexpectations.io/expectations/). As showed below you can easily add an expectation to your validator object by calling the relative method."
   ]
  },
  {
   "cell_type": "markdown",
   "metadata": {},
   "source": [
    "### video_id"
   ]
  },
  {
   "cell_type": "code",
   "execution_count": null,
   "metadata": {
    "pycharm": {
     "name": "#%%\n"
    }
   },
   "outputs": [],
   "source": [
    "column_name = 'video_id'"
   ]
  },
  {
   "cell_type": "code",
   "execution_count": null,
   "metadata": {
    "pycharm": {
     "name": "#%%\n"
    }
   },
   "outputs": [],
   "source": [
    "validator.expect_column_values_to_be_in_type_list(column_name, ['StringType'])"
   ]
  },
  {
   "cell_type": "code",
   "execution_count": null,
   "metadata": {},
   "outputs": [],
   "source": [
    "validator.expect_column_values_to_match_regex(column_name, regex='V[0-9]')"
   ]
  },
  {
   "cell_type": "code",
   "execution_count": null,
   "metadata": {},
   "outputs": [],
   "source": [
    "validator.expect_column_values_to_not_be_null(column_name)"
   ]
  },
  {
   "cell_type": "markdown",
   "metadata": {},
   "source": [
    "### time_spent"
   ]
  },
  {
   "cell_type": "code",
   "execution_count": null,
   "metadata": {
    "pycharm": {
     "name": "#%%\n"
    }
   },
   "outputs": [],
   "source": [
    "column_name = \"time_spent\""
   ]
  },
  {
   "cell_type": "code",
   "execution_count": null,
   "metadata": {
    "pycharm": {
     "name": "#%%\n"
    }
   },
   "outputs": [],
   "source": [
    "validator.expect_column_values_to_be_in_type_list(column_name, ['IntegerType'])"
   ]
  },
  {
   "cell_type": "code",
   "execution_count": null,
   "metadata": {
    "pycharm": {
     "name": "#%%\n"
    },
    "scrolled": true
   },
   "outputs": [],
   "source": [
    "validator.expect_column_min_to_be_between(column_name, min_value=0)"
   ]
  },
  {
   "cell_type": "code",
   "execution_count": null,
   "metadata": {},
   "outputs": [],
   "source": [
    "validator.expect_column_values_to_not_be_null(column_name)"
   ]
  },
  {
   "cell_type": "markdown",
   "metadata": {},
   "source": [
    "### video_duration"
   ]
  },
  {
   "cell_type": "code",
   "execution_count": null,
   "metadata": {
    "pycharm": {
     "name": "#%%\n"
    }
   },
   "outputs": [],
   "source": [
    "column_name = 'video_duration'"
   ]
  },
  {
   "cell_type": "code",
   "execution_count": null,
   "metadata": {
    "pycharm": {
     "name": "#%%\n"
    }
   },
   "outputs": [],
   "source": [
    "validator.expect_column_values_to_be_in_type_list(column_name, ['IntegerType'])"
   ]
  },
  {
   "cell_type": "code",
   "execution_count": null,
   "metadata": {
    "pycharm": {
     "name": "#%%\n"
    }
   },
   "outputs": [],
   "source": [
    "validator.expect_column_values_to_be_between(column_name, min_value = 0, max_value = 3600)"
   ]
  },
  {
   "cell_type": "code",
   "execution_count": null,
   "metadata": {},
   "outputs": [],
   "source": [
    "validator.expect_column_values_to_not_be_null(column_name)"
   ]
  },
  {
   "cell_type": "markdown",
   "metadata": {},
   "source": [
    "### customer_id"
   ]
  },
  {
   "cell_type": "code",
   "execution_count": null,
   "metadata": {
    "pycharm": {
     "name": "#%%\n"
    }
   },
   "outputs": [],
   "source": [
    "column_name = 'customer_id'"
   ]
  },
  {
   "cell_type": "code",
   "execution_count": null,
   "metadata": {
    "pycharm": {
     "name": "#%%\n"
    }
   },
   "outputs": [],
   "source": [
    "validator.expect_column_values_to_be_in_type_list(column_name, [\"StringType\"])"
   ]
  },
  {
   "cell_type": "code",
   "execution_count": null,
   "metadata": {
    "pycharm": {
     "name": "#%%\n"
    }
   },
   "outputs": [],
   "source": [
    "validator.expect_column_values_to_not_be_null(column_name)"
   ]
  },
  {
   "cell_type": "markdown",
   "metadata": {},
   "source": [
    "### user_uid"
   ]
  },
  {
   "cell_type": "code",
   "execution_count": null,
   "metadata": {
    "pycharm": {
     "name": "#%%\n"
    }
   },
   "outputs": [],
   "source": [
    "column_name = 'user_id'"
   ]
  },
  {
   "cell_type": "code",
   "execution_count": null,
   "metadata": {
    "pycharm": {
     "name": "#%%\n"
    }
   },
   "outputs": [],
   "source": [
    "validator.expect_column_values_to_be_in_type_list(column_name, ['StringType'])"
   ]
  },
  {
   "cell_type": "code",
   "execution_count": null,
   "metadata": {},
   "outputs": [],
   "source": [
    "validator.expect_column_values_to_match_regex(column_name, '[0-9]{4}$')"
   ]
  },
  {
   "cell_type": "code",
   "execution_count": null,
   "metadata": {},
   "outputs": [],
   "source": [
    "validator.expect_column_values_to_not_be_null(column_name)"
   ]
  },
  {
   "cell_type": "markdown",
   "metadata": {},
   "source": [
    "### device_id"
   ]
  },
  {
   "cell_type": "code",
   "execution_count": null,
   "metadata": {
    "pycharm": {
     "name": "#%%\n"
    }
   },
   "outputs": [],
   "source": [
    "column_name = 'device_id'"
   ]
  },
  {
   "cell_type": "code",
   "execution_count": null,
   "metadata": {
    "pycharm": {
     "name": "#%%\n"
    },
    "scrolled": true
   },
   "outputs": [],
   "source": [
    "validator.expect_column_values_to_be_in_type_list(column_name, [\"StringType\"])"
   ]
  },
  {
   "cell_type": "code",
   "execution_count": null,
   "metadata": {},
   "outputs": [],
   "source": [
    "validator.expect_column_values_to_match_regex(column_name, 'd[0-9]{3}$')"
   ]
  },
  {
   "cell_type": "code",
   "execution_count": null,
   "metadata": {
    "pycharm": {
     "name": "#%%\n"
    }
   },
   "outputs": [],
   "source": [
    "validator.expect_column_values_to_not_be_null(column_name)"
   ]
  },
  {
   "cell_type": "markdown",
   "metadata": {},
   "source": [
    "## 6) Save the Expectation Suite"
   ]
  },
  {
   "cell_type": "markdown",
   "metadata": {},
   "source": [
    "Persist the Expectation Suite into the path defined in the DataContext, by running `.save_expectation_suite()` method."
   ]
  },
  {
   "cell_type": "code",
   "execution_count": null,
   "metadata": {},
   "outputs": [],
   "source": [
    "validator.save_expectation_suite(discard_failed_expectations=False)"
   ]
  },
  {
   "cell_type": "markdown",
   "metadata": {},
   "source": [
    "#### To be continued...\n",
    "\n",
    "Now you can run a data validation using the Expectation Suite you just create.<br/>\n",
    "Check the notebook [template for data validation with Great Expectations Checkpoints](../validate_data/data_validation_with_checkpoints_template.ipynb)."
   ]
  }
 ],
 "metadata": {
  "hide_input": false,
  "kernelspec": {
   "display_name": "Python 3",
   "language": "python",
   "name": "python3"
  },
  "language_info": {
   "codemirror_mode": {
    "name": "ipython",
    "version": 3
   },
   "file_extension": ".py",
   "mimetype": "text/x-python",
   "name": "python",
   "nbconvert_exporter": "python",
   "pygments_lexer": "ipython3",
   "version": "3.7.6"
  },
  "toc": {
   "base_numbering": 1,
   "nav_menu": {},
   "number_sections": true,
   "sideBar": true,
   "skip_h1_title": false,
   "title_cell": "Table of Contents",
   "title_sidebar": "Contents",
   "toc_cell": false,
   "toc_position": {
    "height": "861.094px",
    "left": "0px",
    "top": "110.051px",
    "width": "228.75px"
   },
   "toc_section_display": true,
   "toc_window_display": false
  },
  "varInspector": {
   "cols": {
    "lenName": 16,
    "lenType": 16,
    "lenVar": 40
   },
   "kernels_config": {
    "python": {
     "delete_cmd_postfix": "",
     "delete_cmd_prefix": "del ",
     "library": "var_list.py",
     "varRefreshCmd": "print(var_dic_list())"
    },
    "r": {
     "delete_cmd_postfix": ") ",
     "delete_cmd_prefix": "rm(",
     "library": "var_list.r",
     "varRefreshCmd": "cat(var_dic_list()) "
    }
   },
   "types_to_exclude": [
    "module",
    "function",
    "builtin_function_or_method",
    "instance",
    "_Feature"
   ],
   "window_display": false
  }
 },
 "nbformat": 4,
 "nbformat_minor": 5
}
